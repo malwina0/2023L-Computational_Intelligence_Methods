{
 "cells": [
  {
   "cell_type": "markdown",
   "id": "a840b47c",
   "metadata": {},
   "source": [
    "### LAB1: NN1: Bazowa implementacja\n",
    "\n",
    "Na tych zajęciach należy zaimplementować sieć neuronową typu MLP, w której można ustawić: liczbę warstw, liczbę neuronów w każdej z warstw i wagi poszczególnych połączeń, w tym biasów. Sieć ma używać sigmoidalnej funkcji aktywacji. Na wyjściu dopuszczana jest funkcja liniowa.\n",
    "\n",
    "Implementacja sieci musi być przygotowana w taki sposób, żeby łatwo zmieniać:\n",
    " * Architekturę, to znaczy liczbę wejść, wyjść, neuronów w warstwach ukrytych.\n",
    " * Funkcję aktywacji.\n",
    " \n",
    "Tak przygotowaną implementację należy następnie wykorzystać do rozwiązania zadania regresji na dostarczonych danych. Parametry sieci należy dobrać ręcznie, tak aby uzyskać możliwie dobrze wyniki na zbiorach danych (zbudować po jednej sieci dla każdego zbioru):\n",
    "\n",
    "* square-simple\n",
    "* steps-large\n",
    "\n",
    "\n",
    "Rozważyć architektury sieci:\n",
    "* jedna warstwa ukryta, 5 neuronów,\n",
    "* jedna warstwa ukryta, 10 neuronów,\n",
    "* dwie warstwy ukryte, po 5 neuronów każda.\n",
    "\n",
    "Aby otrzymać 2 punkty MSE na nieznormalizowanym zbiorze testowym nie może przekraczać wartości 9."
   ]
  },
  {
   "cell_type": "markdown",
   "id": "ddb6ddda",
   "metadata": {},
   "source": [
    "import numpy as np\n",
    "import pandas as pd\n",
    "import matplotlib.pyplot as plt\n",
    "from sklearn.metrics import mean_squared_error\n",
    "from scipy.special import expit"
   ]
  },
  {
   "cell_type": "markdown",
   "id": "60bd22ac",
   "metadata": {},
   "source": [
    "## Funkcja aktywacji"
   ]
  },
  {
   "cell_type": "code",
   "execution_count": 2,
   "id": "eb78b40d",
   "metadata": {},
   "outputs": [],
   "source": [
    "def sigmoid(x):\n",
    "    return np.where(x >= 0, \n",
    "                    1 / (1+np.exp(-x)), \n",
    "                    np.exp(x) / (1+np.exp(x))\n",
    "                   )\n",
    "def sigmoid2(x): #stablina numerycznie\n",
    "    return expit(x)"
   ]
  },
  {
   "cell_type": "markdown",
   "id": "e2bdaedc",
   "metadata": {},
   "source": [
    "## Implementacja sieci MLP"
   ]
  },
  {
   "cell_type": "code",
   "execution_count": 3,
   "id": "4dd68f9c",
   "metadata": {},
   "outputs": [],
   "source": [
    "def MLP(X, no_neutrons, weights, bias, activation_func):\n",
    "    #no_neutrons - ustawia ile jest wag w każdej z warstw (z wejściową i wyjściową włącznie)\n",
    "    # i tym samym determinuje ile jest warstw ukrytych\n",
    "    z = X\n",
    "    for i in range(len(no_neutrons)-2): #-2 bo nie uzględamiamy tu wejściowej i wyjściowej warstwy\n",
    "        z = np.dot(z, weights[i]) + bias[i]\n",
    "        z = activation_func(z)\n",
    "        #print(i)\n",
    "        #print(z)\n",
    "    z = np.dot(z, weights[-1]) + bias[-1] # na końcu nie ma funkcji sigmoidalnej więc już poza pętlą\n",
    "    #print('s')\n",
    "    #print(z)\n",
    "    return z #na wyjściu funkcja liniowa"
   ]
  },
  {
   "cell_type": "markdown",
   "id": "b491624a",
   "metadata": {},
   "source": [
    "### Pierwszy zbiór danych (*square simple*)"
   ]
  },
  {
   "cell_type": "code",
   "execution_count": 4,
   "id": "e3259129",
   "metadata": {},
   "outputs": [],
   "source": [
    "data_train = pd.read_csv('../../data/regression/square-simple-training.csv', index_col = 0)\n",
    "data_test = pd.read_csv('../../data/regression/square-simple-test.csv', index_col = 0)"
   ]
  },
  {
   "cell_type": "code",
   "execution_count": 5,
   "id": "84444929",
   "metadata": {},
   "outputs": [],
   "source": [
    "x = data_train[['x']]\n",
    "y = data_train[['y']]\n",
    "x_test = data_test[['x']]\n",
    "y_test = data_test[['y']]"
   ]
  },
  {
   "cell_type": "markdown",
   "id": "4155cb01",
   "metadata": {},
   "source": [
    "#### Architektura: jedna warstwa ukryta, 5 neuronów"
   ]
  },
  {
   "cell_type": "code",
   "execution_count": 6,
   "id": "c2e6a0b0",
   "metadata": {},
   "outputs": [],
   "source": [
    "no_neutrons = [1, 5, 1] #ile jest neutrownów w każdej z wartw, wliczając wejściową i wyjściową\n",
    "w0 = np.array([[0.966, -0.966, -0.966, -0.966, -0.966]]) # rozmiar n_0 x n_1 czyli 1x5\n",
    "b0 = np.array([[-2.88, -2.88, -2.88, -2.88, -2.88]]) # 1x5 bo 5 neuronów w pierwszej warstwie ukrytej\n",
    "w1 = np.array([[2000], [500], [500], [500], [500]]) # rozmiar n_1 x n_2-wyjściowej czyli 5x1\n",
    "b1 = np.array([[-340]]) #1x1 bo tyle netronów 2 drugiej-ostatniej warstwie\n",
    "weights = [w0, w1]\n",
    "bias = [b0, b1]"
   ]
  },
  {
   "cell_type": "code",
   "execution_count": 7,
   "id": "8b8a42c5",
   "metadata": {},
   "outputs": [
    {
     "data": {
      "text/plain": [
       "2.530489209890172"
      ]
     },
     "execution_count": 7,
     "metadata": {},
     "output_type": "execute_result"
    }
   ],
   "source": [
    "y_pred_train = MLP(x, no_neutrons, weights, bias, sigmoid)\n",
    "mean_squared_error(y, y_pred_train)"
   ]
  },
  {
   "cell_type": "code",
   "execution_count": 8,
   "id": "e239c5a6",
   "metadata": {},
   "outputs": [
    {
     "data": {
      "image/png": "[encoded data removed]",
      "text/plain": [
       "<Figure size 432x288 with 1 Axes>"
      ]
     },
     "metadata": {
      "needs_background": "light"
     },
     "output_type": "display_data"
    }
   ],
   "source": [
    "plt.scatter(x, y, s=10)\n",
    "plt.scatter(x, y_pred_train, s=6)\n",
    "plt.show()"
   ]
  },
  {
   "cell_type": "code",
   "execution_count": 9,
   "id": "70b2f5de",
   "metadata": {},
   "outputs": [
    {
     "data": {
      "text/plain": [
       "2.6240009187397995"
      ]
     },
     "execution_count": 9,
     "metadata": {},
     "output_type": "execute_result"
    }
   ],
   "source": [
    "y_pred_test = MLP(x_test, no_neutrons, weights, bias, sigmoid)\n",
    "mean_squared_error(y_test, y_pred_test)"
   ]
  },
  {
   "cell_type": "code",
   "execution_count": 10,
   "id": "585fb8af",
   "metadata": {},
   "outputs": [
    {
     "data": {
      "image/png": "[encoded data removed]",
      "text/plain": [
       "<Figure size 432x288 with 1 Axes>"
      ]
     },
     "metadata": {
      "needs_background": "light"
     },
     "output_type": "display_data"
    }
   ],
   "source": [
    "plt.scatter(x_test, y_test, s=10)\n",
    "plt.scatter(x_test, y_pred_test, s=6)\n",
    "plt.show()"
   ]
  },
  {
   "cell_type": "markdown",
   "id": "a07b3505",
   "metadata": {},
   "source": [
    "Dla zbioru *square simple* i architektury z jedną warstwą ukrytą z 5 neutronami:\n",
    " * MSE dla zbioru treningowego: 2.530\n",
    " * MSE dla zbioru testowego: 2.624"
   ]
  },
  {
   "cell_type": "markdown",
   "id": "35e8cbe6",
   "metadata": {},
   "source": [
    "#### Architektura: jedna warstwa ukryta, 10 neuronów"
   ]
  },
  {
   "cell_type": "code",
   "execution_count": 11,
   "id": "55c0ad85",
   "metadata": {},
   "outputs": [],
   "source": [
    "no_neutrons = [1, 10, 1] #ile jest neutrownów w każdej z wartw, wliczając wejściową i wyjściową\n",
    "w0 = np.array([[0.966, -0.966, -0.966, -0.966, -0.966, -0.966, 0.966, 0.966, 0.966, 0.966]]) # rozmiar n_0 x n_1 czyli 1x10\n",
    "b0 = np.array([[-2.88, -2.88, -2.88, -2.88, -2.88, -2.88, -2.88, -2.88, -2.88, -2.88]]) # 1x10 bo 10 neuronów w pierwszej warstwie ukrytej\n",
    "w1 = np.array([[400], [400], [400], [400], [400], [400], [400], [400], [400], [400]]) # rozmiar n_1 x n_2-wyjściowej czyli 10x1\n",
    "b1 = np.array([[-340]]) #1x1 bo tyle netronów 2 drugiej-ostatniej warstwie\n",
    "weights = [w0, w1]\n",
    "bias = [b0, b1]"
   ]
  },
  {
   "cell_type": "code",
   "execution_count": 12,
   "id": "70f2fe28",
   "metadata": {},
   "outputs": [
    {
     "data": {
      "text/plain": [
       "2.5304892098901854"
      ]
     },
     "execution_count": 12,
     "metadata": {},
     "output_type": "execute_result"
    }
   ],
   "source": [
    "y_pred_train = MLP(x, no_neutrons, weights, bias, sigmoid)\n",
    "mean_squared_error(y, y_pred_train)"
   ]
  },
  {
   "cell_type": "code",
   "execution_count": 13,
   "id": "63d2a29a",
   "metadata": {},
   "outputs": [
    {
     "data": {
      "image/png": "[encoded data removed]",
      "text/plain": [
       "<Figure size 432x288 with 1 Axes>"
      ]
     },
     "metadata": {
      "needs_background": "light"
     },
     "output_type": "display_data"
    }
   ],
   "source": [
    "plt.scatter(x, y, s=10)\n",
    "plt.scatter(x, y_pred_train, s=6)\n",
    "plt.show()"
   ]
  },
  {
   "cell_type": "code",
   "execution_count": 14,
   "id": "a29ab45f",
   "metadata": {},
   "outputs": [
    {
     "data": {
      "text/plain": [
       "2.6240009187398114"
      ]
     },
     "execution_count": 14,
     "metadata": {},
     "output_type": "execute_result"
    }
   ],
   "source": [
    "y_pred_test = MLP(x_test, no_neutrons, weights, bias, sigmoid)\n",
    "mean_squared_error(y_test, y_pred_test)"
   ]
  },
  {
   "cell_type": "code",
   "execution_count": 15,
   "id": "926a8178",
   "metadata": {},
   "outputs": [
    {
     "data": {
      "image/png": "[encoded data removed]",
      "text/plain": [
       "<Figure size 432x288 with 1 Axes>"
      ]
     },
     "metadata": {
      "needs_background": "light"
     },
     "output_type": "display_data"
    }
   ],
   "source": [
    "plt.scatter(x_test, y_test, s=10)\n",
    "plt.scatter(x_test, y_pred_test, s=6)\n",
    "plt.show()"
   ]
  },
  {
   "cell_type": "markdown",
   "id": "8090cd02",
   "metadata": {},
   "source": [
    "Dla zbioru *square simple* i architektury z jedną warstwą ukrytą z 10 neutronami:\n",
    " * MSE dla zbioru treningowego: 2.530\n",
    " * MSE dla zbioru testowego: 2.624\n",
    " \n",
    "czyli dokładnie tak samo jak dla pierwszej architektury"
   ]
  },
  {
   "cell_type": "markdown",
   "id": "8040c8a4",
   "metadata": {},
   "source": [
    "#### Architektura: dwie warstwy ukryte, po 5 neuronów każda"
   ]
  },
  {
   "cell_type": "code",
   "execution_count": 16,
   "id": "f88ce7a1",
   "metadata": {},
   "outputs": [],
   "source": [
    "no_neutrons = [1, 5, 5, 1] #ile jest neutronów w każdej z wartw, wliczając wejściową i wyjściową\n",
    "w0 = np.array([[0.965, -2.217, -0.965, 1, -1]]) # rozmiar n_0 x n_1 czyli 1x5\n",
    "b0 = np.array([[-2.88, -2.9, -2.88, -2.88, -2.88]]) # 1x5 bo 5 neuronów w pierwszej warstwie ukrytej\n",
    "w1 = np.array([[3.1, 0, 0, 0, 0],\n",
    "               [0, 3.2, 0, 0, 0],\n",
    "               [0, 0, 3.2, 0, 0],\n",
    "               [0, 0, 0, 3.1, 0],\n",
    "               [0, 0, 0, 0, 3.1]]) # rozmiar n_1 x n_2-wyjściowej czyli 5x5\n",
    "b1 = np.array([[0, 0, 0, 0, 0]]) # 1x5 bo 5 neuronów w drugiej warstwie ukrytej\n",
    "w2 = np.array([[2000], [500], [500], [500], [500]]) # rozmiar n_1 x n_2-wyjściowej czyli 5x1\n",
    "b2 = np.array([[-2300]]) #1x1 bo tyle netronów 2 drugiej-ostatniej warstwie\n",
    "weights = [w0, w1, w2]\n",
    "bias = [b0, b1, b2]"
   ]
  },
  {
   "cell_type": "code",
   "execution_count": 17,
   "id": "d07da6e5",
   "metadata": {},
   "outputs": [
    {
     "data": {
      "text/plain": [
       "22.782538484294545"
      ]
     },
     "execution_count": 17,
     "metadata": {},
     "output_type": "execute_result"
    }
   ],
   "source": [
    "y_pred_train = MLP(x, no_neutrons, weights, bias, sigmoid)\n",
    "mean_squared_error(y, y_pred_train)"
   ]
  },
  {
   "cell_type": "code",
   "execution_count": 18,
   "id": "4e684d68",
   "metadata": {},
   "outputs": [
    {
     "data": {
      "image/png": "[encoded data removed]",
      "text/plain": [
       "<Figure size 432x288 with 1 Axes>"
      ]
     },
     "metadata": {
      "needs_background": "light"
     },
     "output_type": "display_data"
    }
   ],
   "source": [
    "plt.scatter(x, y, s=10)\n",
    "plt.scatter(x, y_pred_train, s=6)\n",
    "plt.show()"
   ]
  },
  {
   "cell_type": "code",
   "execution_count": 19,
   "id": "30939f3c",
   "metadata": {},
   "outputs": [
    {
     "data": {
      "text/plain": [
       "19.885175176807635"
      ]
     },
     "execution_count": 19,
     "metadata": {},
     "output_type": "execute_result"
    }
   ],
   "source": [
    "y_pred_test = MLP(x_test, no_neutrons, weights, bias, sigmoid2)\n",
    "mean_squared_error(y_test, y_pred_test)"
   ]
  },
  {
   "cell_type": "code",
   "execution_count": 20,
   "id": "3f371114",
   "metadata": {},
   "outputs": [
    {
     "data": {
      "image/png": "[encoded data removed]",
      "text/plain": [
       "<Figure size 432x288 with 1 Axes>"
      ]
     },
     "metadata": {
      "needs_background": "light"
     },
     "output_type": "display_data"
    }
   ],
   "source": [
    "plt.scatter(x_test, y_test, s=10)\n",
    "plt.scatter(x_test, y_pred_test, s=6)\n",
    "plt.show()"
   ]
  },
  {
   "cell_type": "markdown",
   "id": "d43afcdf",
   "metadata": {},
   "source": [
    "Dla zbioru *square simple* i architektury z dwiema warstwami ukrytymi, po 5 neuronów każda:\n",
    " * MSE dla zbioru treningowego: 22.793\n",
    " * MSE dla zbioru testowego: 19.885"
   ]
  },
  {
   "cell_type": "markdown",
   "id": "ac1d0bee",
   "metadata": {},
   "source": [
    "### Drugi zbiór danych (*steps large*)"
   ]
  },
  {
   "cell_type": "code",
   "execution_count": 21,
   "id": "784600f8",
   "metadata": {},
   "outputs": [],
   "source": [
    "data_train = pd.read_csv('../../data/regression/steps-large-training.csv', index_col = 0)\n",
    "data_test = pd.read_csv('../../data/regression/steps-large-test.csv', index_col = 0)"
   ]
  },
  {
   "cell_type": "code",
   "execution_count": 22,
   "id": "5b0ea37a",
   "metadata": {},
   "outputs": [],
   "source": [
    "x = data_train[['x']]\n",
    "y = data_train[['y']]\n",
    "x_test = data_test[['x']]\n",
    "y_test = data_test[['y']]"
   ]
  },
  {
   "cell_type": "markdown",
   "id": "a2f009ed",
   "metadata": {},
   "source": [
    "#### Architektura: jedna warstwa ukryta, 5 neuronów"
   ]
  },
  {
   "cell_type": "code",
   "execution_count": 23,
   "id": "d538e699",
   "metadata": {},
   "outputs": [],
   "source": [
    "no_neutrons = [1, 5, 1] #ile jest neutrownów w każdej z wartw, wliczając wejściową i wyjściową\n",
    "w0 = np.array([[500, 500, 500, 500, 500]]) # rozmiar n_0 x n_1 czyli 1x5\n",
    "b0 = np.array([[-250, -750, 250, 250, 250]]) # 1x5 bo 5 neuronów w pierwszej warstwie ukrytej\n",
    "w1 = np.array([[80], [80], [80], [0], [0]]) # rozmiar n_1 x n_2-wyjściowej czyli 5x1\n",
    "b1 = np.array([[-80]]) #1x1 bo tyle netronów 2 drugiej-ostatniej warstwie\n",
    "weights = [w0, w1]\n",
    "bias = [b0, b1]"
   ]
  },
  {
   "cell_type": "code",
   "execution_count": 24,
   "id": "11448e1a",
   "metadata": {},
   "outputs": [
    {
     "data": {
      "text/plain": [
       "4.190735668232934"
      ]
     },
     "execution_count": 24,
     "metadata": {},
     "output_type": "execute_result"
    }
   ],
   "source": [
    "y_pred_train = MLP(x, no_neutrons, weights, bias, sigmoid2)\n",
    "mean_squared_error(y, y_pred_train)"
   ]
  },
  {
   "cell_type": "code",
   "execution_count": 25,
   "id": "40a1d902",
   "metadata": {},
   "outputs": [
    {
     "data": {
      "image/png": "[encoded data removed]",
      "text/plain": [
       "<Figure size 432x288 with 1 Axes>"
      ]
     },
     "metadata": {
      "needs_background": "light"
     },
     "output_type": "display_data"
    }
   ],
   "source": [
    "plt.scatter(x, y, s=10)\n",
    "plt.scatter(x, y_pred_train, s=6)\n",
    "plt.show()"
   ]
  },
  {
   "cell_type": "code",
   "execution_count": 26,
   "id": "cc1b4479",
   "metadata": {},
   "outputs": [
    {
     "data": {
      "text/plain": [
       "4.655249551651936"
      ]
     },
     "execution_count": 26,
     "metadata": {},
     "output_type": "execute_result"
    }
   ],
   "source": [
    "y_pred_test = MLP(x_test, no_neutrons, weights, bias, sigmoid2)\n",
    "mean_squared_error(y_test, y_pred_test)"
   ]
  },
  {
   "cell_type": "code",
   "execution_count": 27,
   "id": "53f86ea5",
   "metadata": {},
   "outputs": [
    {
     "data": {
      "image/png": "[encoded data removed]",
      "text/plain": [
       "<Figure size 432x288 with 1 Axes>"
      ]
     },
     "metadata": {
      "needs_background": "light"
     },
     "output_type": "display_data"
    }
   ],
   "source": [
    "plt.scatter(x_test, y_test, s=10)\n",
    "plt.scatter(x_test, y_pred_test, s=6)\n",
    "plt.show()"
   ]
  },
  {
   "cell_type": "markdown",
   "id": "87ed3f34",
   "metadata": {},
   "source": [
    "Dla zbioru *steps large* i i architektury z jedną warstwą ukrytą z 5 neutronami:\n",
    " * MSE dla zbioru treningowego: 4.191\n",
    " * MSE dla zbioru testowego: 4.655"
   ]
  },
  {
   "cell_type": "markdown",
   "id": "ae7af6ea",
   "metadata": {},
   "source": [
    "#### Architektura: jedna warstwa ukryta, 10 neuronów"
   ]
  },
  {
   "cell_type": "code",
   "execution_count": 28,
   "id": "e8f930a0",
   "metadata": {},
   "outputs": [],
   "source": [
    "no_neutrons = [1, 10, 1] #ile jest neutrownów w każdej z wartw, wliczając wejściową i wyjściową\n",
    "w0 = np.array([[500, 500, 500, 500, 500, 500, 500, 500, 500, 500]]) # rozmiar n_0 x n_1 czyli 1x10\n",
    "b0 = np.array([[-250, -750, 250, 250, 250, 250, 250, 250, 250, 250]]) # 1x10 bo 10 neuronów w pierwszej warstwie ukrytej\n",
    "w1 = np.array([[80], [80], [80], [80], [-480], [80], [80], [80], [80], [80]]) # rozmiar n_1 x n_2-wyjściowej czyli 10x1\n",
    "b1 = np.array([[-80]]) #1x1 bo tyle netronów 2 drugiej-ostatniej warstwie\n",
    "weights = [w0, w1]\n",
    "bias = [b0, b1]"
   ]
  },
  {
   "cell_type": "code",
   "execution_count": 29,
   "id": "b96d231f",
   "metadata": {},
   "outputs": [
    {
     "data": {
      "text/plain": [
       "4.190735668232937"
      ]
     },
     "execution_count": 29,
     "metadata": {},
     "output_type": "execute_result"
    }
   ],
   "source": [
    "y_pred_train = MLP(x, no_neutrons, weights, bias, sigmoid2)\n",
    "mean_squared_error(y, y_pred_train)"
   ]
  },
  {
   "cell_type": "code",
   "execution_count": 30,
   "id": "418896e0",
   "metadata": {},
   "outputs": [
    {
     "data": {
      "image/png": "[encoded data removed]",
      "text/plain": [
       "<Figure size 432x288 with 1 Axes>"
      ]
     },
     "metadata": {
      "needs_background": "light"
     },
     "output_type": "display_data"
    }
   ],
   "source": [
    "plt.scatter(x, y, s=10)\n",
    "plt.scatter(x, y_pred_train, s=6)\n",
    "plt.show()"
   ]
  },
  {
   "cell_type": "code",
   "execution_count": 31,
   "id": "dbd8545b",
   "metadata": {},
   "outputs": [
    {
     "data": {
      "text/plain": [
       "4.65524955165193"
      ]
     },
     "execution_count": 31,
     "metadata": {},
     "output_type": "execute_result"
    }
   ],
   "source": [
    "y_pred_test = MLP(x_test, no_neutrons, weights, bias, sigmoid2)\n",
    "mean_squared_error(y_test, y_pred_test)"
   ]
  },
  {
   "cell_type": "code",
   "execution_count": 32,
   "id": "6e421553",
   "metadata": {},
   "outputs": [
    {
     "data": {
      "image/png": "[encoded data removed]",
      "text/plain": [
       "<Figure size 432x288 with 1 Axes>"
      ]
     },
     "metadata": {
      "needs_background": "light"
     },
     "output_type": "display_data"
    }
   ],
   "source": [
    "plt.scatter(x_test, y_test, s=10)\n",
    "plt.scatter(x_test, y_pred_test, s=6)\n",
    "plt.show()"
   ]
  },
  {
   "cell_type": "markdown",
   "id": "bc7d842c",
   "metadata": {},
   "source": [
    "Dla zbioru *steps large* i i architektury z jedną warstwą ukrytą z 10 neutronami:\n",
    " * MSE dla zbioru treningowego: 4.191\n",
    " * MSE dla zbioru testowego: 4.655\n",
    " \n",
    "czyli tak samo jak dla poprzedniej architektury."
   ]
  },
  {
   "cell_type": "markdown",
   "id": "38ea96ff",
   "metadata": {},
   "source": [
    "#### Architektura: dwie warstwy ukryte, po 5 neuronów każda"
   ]
  },
  {
   "cell_type": "code",
   "execution_count": 33,
   "id": "ff453854",
   "metadata": {},
   "outputs": [],
   "source": [
    "no_neutrons = [1, 5, 5, 1] #ile jest neutrownów w każdej z wartw, wliczając wejściową i wyjściową\n",
    "w0 = np.array([[500, 500, 500, 500, 500]]) # rozmiar n_0 x n_1 czyli 1x5\n",
    "b0 = np.array([[-250, -750, 250, 250, 250]]) # 1x5 bo 5 neuronów w pierwszej warstwie ukrytej\n",
    "w1 = np.array([[1, 0, 0, 0, 0],\n",
    "               [0, 1, 0, 0, 0],\n",
    "               [0, 0, 1, 0, 0],\n",
    "               [0, 0, 0, 1, 0],\n",
    "               [0, 0, 0, 0, 1]]) # rozmiar n_1 x n_2-wyjściowej czyli 5x5\n",
    "b1 = np.array([[0, 0, 0, 0, 0]]) # 1x5 bo 5 neuronów w drugiej warstwie ukrytej\n",
    "w2 = np.array([[345], [345], [345], [-345], [345]]) # rozmiar n_1 x n_2-wyjściowej czyli 5x1\n",
    "b2 = np.array([[-596]]) #1x1 bo tyle netronów 2 drugiej-ostatniej warstwie\n",
    "weights = [w0, w1, w2]\n",
    "bias = [b0, b1, b2]"
   ]
  },
  {
   "cell_type": "code",
   "execution_count": 34,
   "id": "b7faabcf",
   "metadata": {},
   "outputs": [
    {
     "data": {
      "text/plain": [
       "5.550755875891116"
      ]
     },
     "execution_count": 34,
     "metadata": {},
     "output_type": "execute_result"
    }
   ],
   "source": [
    "y_pred_train = MLP(x, no_neutrons, weights, bias, sigmoid2)\n",
    "mean_squared_error(y, y_pred_train)"
   ]
  },
  {
   "cell_type": "code",
   "execution_count": 35,
   "id": "3a74ba1a",
   "metadata": {},
   "outputs": [
    {
     "data": {
      "image/png": "[encoded data removed]",
      "text/plain": [
       "<Figure size 432x288 with 1 Axes>"
      ]
     },
     "metadata": {
      "needs_background": "light"
     },
     "output_type": "display_data"
    }
   ],
   "source": [
    "plt.scatter(x, y, s=10)\n",
    "plt.scatter(x, y_pred_train, s=6)\n",
    "plt.show()"
   ]
  },
  {
   "cell_type": "code",
   "execution_count": 36,
   "id": "089e171c",
   "metadata": {},
   "outputs": [
    {
     "data": {
      "text/plain": [
       "6.059979340702833"
      ]
     },
     "execution_count": 36,
     "metadata": {},
     "output_type": "execute_result"
    }
   ],
   "source": [
    "y_pred_test = MLP(x_test, no_neutrons, weights, bias, sigmoid2)\n",
    "mean_squared_error(y_test, y_pred_test)"
   ]
  },
  {
   "cell_type": "code",
   "execution_count": 37,
   "id": "f7321034",
   "metadata": {},
   "outputs": [
    {
     "data": {
      "image/png": "[encoded data removed]",
      "text/plain": [
       "<Figure size 432x288 with 1 Axes>"
      ]
     },
     "metadata": {
      "needs_background": "light"
     },
     "output_type": "display_data"
    }
   ],
   "source": [
    "plt.scatter(x_test, y_test, s=10)\n",
    "plt.scatter(x_test, y_pred_test, s=6)\n",
    "plt.show()"
   ]
  },
  {
   "cell_type": "markdown",
   "id": "73fee99e",
   "metadata": {},
   "source": [
    "Dla zbioru *steps large* i i architektury z dwiema warstwami ukrytymi, po 5 neutronów każda:\n",
    " * MSE dla zbioru treningowego: 5.551\n",
    " * MSE dla zbioru testowego: 6.060"
   ]
  }
 ],
 "metadata": {
  "kernelspec": {
   "display_name": "Python 3 (ipykernel)",
   "language": "python",
   "name": "python3"
  },
  "language_info": {
   "codemirror_mode": {
    "name": "ipython",
    "version": 3
   },
   "file_extension": ".py",
   "mimetype": "text/x-python",
   "name": "python",
   "nbconvert_exporter": "python",
   "pygments_lexer": "ipython3",
   "version": "3.8.12"
  }
 },
 "nbformat": 4,
 "nbformat_minor": 5
}
