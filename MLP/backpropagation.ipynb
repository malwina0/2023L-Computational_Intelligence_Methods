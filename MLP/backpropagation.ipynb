{
 "cells": [
  {
   "cell_type": "code",
   "execution_count": 1,
   "id": "18cfbff6",
   "metadata": {},
   "outputs": [],
   "source": [
    "import numpy as np\n",
    "import pandas as pd\n",
    "import matplotlib.pyplot as plt\n",
    "from sklearn.metrics import mean_squared_error\n",
    "from scipy.special import expit\n",
    "from numpy.random import permutation\n",
    "from sklearn import preprocessing"
   ]
  },
  {
   "cell_type": "code",
   "execution_count": 2,
   "id": "83bfd8f0",
   "metadata": {},
   "outputs": [],
   "source": [
    "data_train = pd.read_csv('../../data/regression/square-simple-training.csv', index_col = 0)\n",
    "data_test = pd.read_csv('../../data/regression/square-simple-test.csv', index_col = 0)\n",
    "x = data_train[['x']]\n",
    "y = data_train[['y']]\n",
    "x_test = data_test[['x']]\n",
    "y_test = data_test[['y']]"
   ]
  },
  {
   "cell_type": "code",
   "execution_count": 17,
   "id": "a31d6574",
   "metadata": {},
   "outputs": [],
   "source": [
    "def sigmoid(x): #stablina numerycznie\n",
    "    return expit(x)\n",
    "\n",
    "def linear(x):\n",
    "    # Liniowa funkcja aktywacji f(x) = x\n",
    "    return x\n",
    "\n",
    "\n",
    "def sigmoid_prime(z):\n",
    "    \"\"\"Pochodna funkcji aktywacji sigmoidalnej\"\"\"\n",
    "    return sigmoid(z) * (1 - sigmoid(z))"
   ]
  },
  {
   "cell_type": "code",
   "execution_count": 18,
   "id": "43483bb7",
   "metadata": {},
   "outputs": [],
   "source": [
    "def feedforward (x, weights, biases, sizes):   \n",
    "    # Propagacja do przodu\n",
    "    # activations to lista aktywacji dla każdej warstwy, zaczynając od warstwy wejściowej i kończąc na warstwie wyjściowej.\n",
    "    # na pierwszym obrocie to x bez funkcji aktywacji, czyli dane wejściowe\n",
    "    activations = [x]\n",
    "    # zs to lista wartości (sumy ważone plus biasy) dla każdej warstwy, zaczynając od warstwy ukrytej i kończąc na warstwie wyjściowej.\n",
    "    zs = []\n",
    "    for j in range(len(sizes)-1):\n",
    "        z = np.dot(activations[-1], weights[j]) + biases[j]\n",
    "#             print('zzzzzzzzzzzzzzzzzzzz')\n",
    "#             print(z)\n",
    "        zs.append(z)\n",
    "        if j == len(sizes)-2:\n",
    "            # Dla ostatniej warstwy używamy liniowej funkcji aktywacji\n",
    "            activation = linear(z)\n",
    "        else:\n",
    "            # Dla pozostałych warstw używamy funkcji aktywacji sigmoid\n",
    "            activation = sigmoid(z)\n",
    "#             print('aaaaaaaaaaaa')\n",
    "#             print(activation)\n",
    "        activations.append(activation)\n",
    "    return activations"
   ]
  },
  {
   "cell_type": "code",
   "execution_count": 23,
   "id": "9ee80e52",
   "metadata": {},
   "outputs": [],
   "source": [
    "def backpropagation(y, activations, errors, sizes, weights, biases):\n",
    "    # Obliczenie błędu w warstwie wyjściowej\n",
    "    error = y - activations[-1]\n",
    "    errors.append(np.mean(error**2))\n",
    "\n",
    "    # Propagacja wsteczna\n",
    "    delta = error * sigmoid_prime(activations[-1])\n",
    "    deltas = [delta]\n",
    "    for j in range(2, len(sizes)):\n",
    "        #print(deltas)\n",
    "        delta = np.dot(delta, weights[-j+1].T) * sigmoid_prime(activations[-j])\n",
    "        deltas.append(delta)\n",
    "    deltas.reverse()\n",
    "    return deltas"
   ]
  },
  {
   "cell_type": "code",
   "execution_count": 24,
   "id": "3e9a5fe5",
   "metadata": {},
   "outputs": [],
   "source": [
    "def update_weights_biases(deltas, weights, biases, learning_rate, activations):\n",
    "    # Aktualizacja wag i biasów\n",
    "    for j in range(len(weights)):\n",
    "        weights[j] -= learning_rate * np.dot(activations[j].T, deltas[j])\n",
    "        biases[j] -= learning_rate * np.mean(deltas[j], axis=0)\n",
    "    return weights, biases"
   ]
  },
  {
   "cell_type": "code",
   "execution_count": 25,
   "id": "3d820a8c",
   "metadata": {},
   "outputs": [],
   "source": [
    "def mlp(x, y, sizes, epochs, learning_rate):\n",
    "    \"\"\"\n",
    "    Funkcja wykonująca algorytm wstecznej propagacji błędu dla wielowarstwowej sieci neuronowej.\n",
    "\n",
    "    Argumenty:\n",
    "    x: macierz danych wejściowych (num_examples, num_features)\n",
    "    y: macierz danych wyjściowych (num_examples, num_outputs)\n",
    "    sizes: lista zawierająca liczbę neuronów w każdej warstwie (w tym liczba neuronów w warstwie wejściowej i wyjściowej)\n",
    "    epochs: liczba epok\n",
    "    learning_rate: współczynnik uczenia\n",
    "\n",
    "    Zwraca:\n",
    "    Tuple:\n",
    "    - macierz wag nauczonych\n",
    "    - wektor biasów nauczonych\n",
    "    - wektor błędów dla każdej epoki\n",
    "\n",
    "    \"\"\"\n",
    "    # Inicjalizacja wag i biasów dla każdej warstwy\n",
    "    weights = [np.random.randn(sizes[i-1], sizes[i]) / np.sqrt(sizes[i-1]) for i in range(1, len(sizes))]\n",
    "    biases = [np.zeros((1, sizes[i])) for i in range(1, len(sizes))]\n",
    "    # Lista przechowująca błędy dla każdej epoki\n",
    "    errors = []\n",
    "    for i in range(epochs):  \n",
    "        activations = feedforward(x, weights, biases, sizes)\n",
    "        deltas = backpropagation(y, activations, errors, sizes, weights, biases)\n",
    "        weights, biases = update_weights_biases(deltas, weights, biases, learning_rate, activations)\n",
    "        \n",
    "    return weights, biases, errors"
   ]
  },
  {
   "cell_type": "code",
   "execution_count": 26,
   "id": "8ef1be8f",
   "metadata": {},
   "outputs": [],
   "source": [
    "weights, biases, errors = mlp(x, y, [1, 5, 1], 300, 0.01)"
   ]
  },
  {
   "cell_type": "code",
   "execution_count": 27,
   "id": "cbee39f8",
   "metadata": {},
   "outputs": [
    {
     "data": {
      "text/plain": [
       "[<matplotlib.lines.Line2D at 0x2894fe258b0>]"
      ]
     },
     "execution_count": 27,
     "metadata": {},
     "output_type": "execute_result"
    },
    {
     "data": {
      "image/png": "[encoded data removed]",
      "text/plain": [
       "<Figure size 432x288 with 1 Axes>"
      ]
     },
     "metadata": {
      "needs_background": "light"
     },
     "output_type": "display_data"
    }
   ],
   "source": [
    "plt.plot(range(0, len(errors)), errors)"
   ]
  },
  {
   "cell_type": "code",
   "execution_count": null,
   "id": "9619000b",
   "metadata": {},
   "outputs": [],
   "source": [
    "def backpropagation_MLP(x, y, sizes, epochs, learning_rate):\n",
    "    \"\"\"\n",
    "    Funkcja wykonująca algorytm wstecznej propagacji błędu dla wielowarstwowej sieci neuronowej.\n",
    "\n",
    "    Argumenty:\n",
    "    x: macierz danych wejściowych (num_examples, num_features)\n",
    "    y: macierz danych wyjściowych (num_examples, num_outputs)\n",
    "    sizes: lista zawierająca liczbę neuronów w każdej warstwie (w tym liczba neuronów w warstwie wejściowej i wyjściowej)\n",
    "    epochs: liczba epok\n",
    "    learning_rate: współczynnik uczenia\n",
    "\n",
    "    Zwraca:\n",
    "    Tuple:\n",
    "    - macierz wag nauczonych\n",
    "    - wektor biasów nauczonych\n",
    "    - wektor błędów dla każdej epoki\n",
    "\n",
    "    \"\"\"\n",
    "    # Inicjalizacja wag i biasów dla każdej warstwy\n",
    "    weights = [np.random.randn(sizes[i-1], sizes[i]) / np.sqrt(sizes[i-1]) for i in range(1, len(sizes))]\n",
    "    biases = [np.zeros((1, sizes[i])) for i in range(1, len(sizes))]\n",
    "\n",
    "    # Lista przechowująca błędy dla każdej epoki\n",
    "    errors = []\n",
    "\n",
    "    for i in range(epochs):        \n",
    "        # Propagacja do przodu\n",
    "        # activations to lista aktywacji dla każdej warstwy, zaczynając od warstwy wejściowej i kończąc na warstwie wyjściowej.\n",
    "        # na pierwszym obrocie to x bez funkcji aktywacji, czyli dane wejściowe\n",
    "        activations = [x]\n",
    "        # zs to lista wartości (sumy ważone plus biasy) dla każdej warstwy, zaczynając od warstwy ukrytej i kończąc na warstwie wyjściowej.\n",
    "        zs = []\n",
    "        for j in range(len(sizes)-1):\n",
    "            z = np.dot(activations[-1], weights[j]) + biases[j]\n",
    "#             print('zzzzzzzzzzzzzzzzzzzz')\n",
    "#             print(z)\n",
    "            zs.append(z)\n",
    "            if j == len(sizes)-2:\n",
    "                # Dla ostatniej warstwy używamy liniowej funkcji aktywacji\n",
    "                activation = linear(z)\n",
    "            else:\n",
    "                # Dla pozostałych warstw używamy funkcji aktywacji sigmoid\n",
    "                activation = sigmoid(z)\n",
    "#             print('aaaaaaaaaaaa')\n",
    "#             print(activation)\n",
    "            activations.append(activation)\n",
    "\n",
    "        # Obliczenie błędu w warstwie wyjściowej\n",
    "        error = y - activations[-1]\n",
    "        errors.append(np.mean(error**2))\n",
    "\n",
    "        # Propagacja wsteczna\n",
    "        delta = error * sigmoid_prime(activations[-1])\n",
    "        deltas = [delta]\n",
    "        for j in range(2, len(sizes)):\n",
    "            #print(deltas)\n",
    "            delta = np.dot(delta, weights[-j+1].T) * sigmoid_prime(activations[-j])\n",
    "            deltas.append(delta)\n",
    "        deltas.reverse()\n",
    "\n",
    "        # Aktualizacja wag i biasów\n",
    "        for j in range(len(weights)):\n",
    "            weights[j] -= learning_rate * np.dot(activations[j].T, deltas[j])\n",
    "            #biases[j] -= learning_rate * np.mean(deltas[j], axis=0)\n",
    "\n",
    "    return weights, biases, errors"
   ]
  },
  {
   "cell_type": "code",
   "execution_count": null,
   "id": "e2b46668",
   "metadata": {},
   "outputs": [],
   "source": [
    "#backpropagation_MLP(x, y, [1, 5, 1], 500, 0.01)\n",
    "weights, biases, errors = backpropagation_MLP(x, y, [1, 5, 1], 500, 0.005)"
   ]
  },
  {
   "cell_type": "code",
   "execution_count": null,
   "id": "b25e48eb",
   "metadata": {},
   "outputs": [],
   "source": [
    "plt.plot(range(0, len(errors)), errors)"
   ]
  },
  {
   "cell_type": "code",
   "execution_count": null,
   "id": "57704a81",
   "metadata": {},
   "outputs": [],
   "source": [
    "errors"
   ]
  },
  {
   "cell_type": "code",
   "execution_count": null,
   "id": "cf01eb15",
   "metadata": {},
   "outputs": [],
   "source": [
    "import matplotlib.pyplot as plt\n",
    "plt.scatter(x, activations[-1])"
   ]
  },
  {
   "cell_type": "code",
   "execution_count": null,
   "id": "d51dcdae",
   "metadata": {},
   "outputs": [],
   "source": [
    "errors"
   ]
  },
  {
   "cell_type": "code",
   "execution_count": null,
   "id": "d2f97ff4",
   "metadata": {},
   "outputs": [],
   "source": [
    "sizes = [1, 5, 1]\n",
    "weights = [np.random.randn(sizes[i-1], sizes[i]) / np.sqrt(sizes[i-1]) for i in range(1, len(sizes))]\n",
    "biases = [np.zeros((1, sizes[i])) for i in range(1, len(sizes))]\n",
    "errors = []\n",
    "activations = [x]\n",
    "zs = []\n",
    "learning_rate = 0.1"
   ]
  },
  {
   "cell_type": "code",
   "execution_count": null,
   "id": "a1e433b3",
   "metadata": {},
   "outputs": [],
   "source": [
    "activations = [x]\n",
    "zs = []\n",
    "for j in range(len(sizes)-1):\n",
    "    print(j)\n",
    "    # ostatni element z listy activations to wartości po zastosowaniu funkcji aktywacji do sumy ważonej neuronów w poprzedniej warstwie\n",
    "    # na pierwszym obrocie to x bez funkcji aktywacji, czyli dane wejściowe\n",
    "    z = np.dot(activations[-1], weights[j]) + biases[j]\n",
    "    zs.append(z)\n",
    "    if j == len(sizes)-2:\n",
    "        # Dla ostatniej warstwy używamy liniowej funkcji aktywacji\n",
    "        activation = linear(z)\n",
    "    else:\n",
    "        # Dla pozostałych warstw używamy funkcji aktywacji sigmoid\n",
    "        activation = sigmoid(z)\n",
    "    activations.append(activation)\n",
    "\n",
    "# Obliczenie błędu w warstwie wyjściowej\n",
    "#activations[-1].columns = ['y']\n",
    "error = y - activations[-1]\n",
    "errors.append(np.mean(error**2))\n",
    "\n",
    "# Propagacja wsteczna\n",
    "delta = error * sigmoid_prime(activations[-1])\n",
    "deltas = [delta]\n",
    "for j in range(2, len(sizes)-1):\n",
    "    delta = np.dot(delta, weights[-j+1].T) * sigmoid_prime(activations[-j])\n",
    "    deltas.append(delta)\n",
    "deltas.reverse()"
   ]
  },
  {
   "cell_type": "code",
   "execution_count": null,
   "id": "ae1e300a",
   "metadata": {},
   "outputs": [],
   "source": [
    "for j in range(len(weights)):\n",
    "    weights[j] += learning_rate * np.dot(activations[j].T, deltas[j])\n",
    "    biases[j] += learning_rate * np.mean(deltas[j], axis=0)"
   ]
  },
  {
   "cell_type": "code",
   "execution_count": null,
   "id": "83b7d680",
   "metadata": {},
   "outputs": [],
   "source": []
  }
 ],
 "metadata": {
  "kernelspec": {
   "display_name": "Python 3 (ipykernel)",
   "language": "python",
   "name": "python3"
  },
  "language_info": {
   "codemirror_mode": {
    "name": "ipython",
    "version": 3
   },
   "file_extension": ".py",
   "mimetype": "text/x-python",
   "name": "python",
   "nbconvert_exporter": "python",
   "pygments_lexer": "ipython3",
   "version": "3.8.12"
  }
 },
 "nbformat": 4,
 "nbformat_minor": 5
}
