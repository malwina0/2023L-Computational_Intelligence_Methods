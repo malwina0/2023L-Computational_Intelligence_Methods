{
 "cells": [
  {
   "attachments": {},
   "cell_type": "markdown",
   "metadata": {},
   "source": [
    "##### Malwina Wojewoda\n",
    "# 2.2. AE2: Wypełnianie koła prostokątami \n",
    "Rozwiązać wariant problemu znanego w literaturze jako cutting stock problem.\n",
    "\n",
    "Mamy dane koło o promieniu r oraz zbiór dostępnych prostokątów zadanych przez trzy liczby: wysokość, szerokość i wartość.\n",
    "\n",
    "Celem jest ułożenie prostokątów w kole tak, aby zmaksymalizować sumę ich wartości, spełniając następujące warunki:\n",
    "\n",
    "boki wszystkich prostokątów były równoległe do osi układu,\n",
    "wnętrza prostokątów nie miały części wspólnej (intuicyjnie: prostokąty nie nachodzą na siebie, ale mogą się stykać bokami),\n",
    "każdy prostokąt można wstawić dowolnie wiele razy.\n",
    "Zaproponować kodowanie problemu, operator mutacji i krzyżowania i zaimplementować algorytm genetyczny rozwiązujący powyższy problem.\n",
    "\n",
    "Przetestować rozwiązanie na danych dostarczonych w pliku http://pages.mini.pw.edu.pl/~karwowskij/mioad/cutting.tar.xz.\n",
    "\n",
    "Struktura pliku: w nazwie pliku jest podany promień koła, plik jest w formacie csv: pierwsza kolumna to szerokość prostokąta, druga to wysokość, trzecia to wartość prostokąta.\n",
    "\n",
    "Minimalny wynik na 4 punkty to przynajmniej wartość sumaryczna prostokątów:\n",
    "* 30000 w kole o średnicy 800, \n",
    "* 17500 w kole o średnicy 1000, \n",
    "* 25000 w kole o średnicy 1100,\n",
    "* 30000 w kole o średnicy 1200.\n",
    "\n",
    "Zbiór r850 nie wpływa na punktację, ale należy zaprezentować wynik dla niego."
   ]
  },
  {
   "cell_type": "code",
   "execution_count": 1,
   "metadata": {},
   "outputs": [],
   "source": [
    "import pandas as pd\n",
    "import numpy as np\n",
    "import matplotlib.pyplot as plt\n",
    "import matplotlib.patches as patches\n",
    "from copy import deepcopy, copy\n",
    "import itertools\n",
    "import random\n",
    "from operator import attrgetter\n",
    "random.seed(777)"
   ]
  },
  {
   "cell_type": "code",
   "execution_count": 2,
   "metadata": {},
   "outputs": [],
   "source": [
    "class Rectangle:\n",
    "\n",
    "    def __init__(self, top_right_x, top_right_y, rectangle_type=[0, 0, 0]):\n",
    "        self.width = rectangle_type[0]\n",
    "        self.height = rectangle_type[1]\n",
    "        self.value = rectangle_type[2]\n",
    "        self.top_right_x = top_right_x\n",
    "        self.top_right_y = top_right_y\n",
    "        self.bottom_left_x = self.top_right_x - self.width \n",
    "        self.bottom_left_y = self.top_right_y - self.height\n",
    "\n",
    "    def intersects(self, other):\n",
    "        return not (self.top_right_x < other.bottom_left_x or self.bottom_left_x > other.top_right_x or self.top_right_y < other.bottom_left_y or self.bottom_left_y > other.top_right_y)\n",
    "\n",
    "    def is_in_circle(self, radius):\n",
    "        if (self.top_right_x)**2 + (self.top_right_y)**2 > radius**2: #1st quarter\n",
    "            return False\n",
    "        if (self.bottom_left_x)**2 + (self.top_right_y)**2 > radius**2: #2nd quarter\n",
    "            return False\n",
    "        if (self.bottom_left_x)**2 + (self.bottom_left_y)**2 > radius**2: #3rd quarter\n",
    "            return False\n",
    "        if (self.top_right_x)**2 + (self.bottom_left_y)**2 > radius**2: #4th quarter\n",
    "            return False\n",
    "        return True "
   ]
  },
  {
   "cell_type": "code",
   "execution_count": 3,
   "metadata": {},
   "outputs": [],
   "source": [
    "class CircleWithRectangles:\n",
    "\n",
    "    def __init__(self, rectangles_list, radius):\n",
    "        self.rectangles_list = rectangles_list\n",
    "        self.score = 0\n",
    "        self.radius = radius\n",
    "    \n",
    "    def calculate_score(self):\n",
    "        self.score = sum(rectangle.value for rectangle in self.rectangles_list)\n",
    "    \n",
    "    # def check(self):\n",
    "    #     for rect1, rect2 in itertools.combinations(self.rectangles_list, 2):\n",
    "    #         if rect1.intersects(rect2)\n",
    "    \n",
    "    def plot_circle(self):\n",
    "        circle = plt.Circle((0, 0), self.radius, color='#4d004d', fill=False)\n",
    "        fig, ax = plt.subplots()\n",
    "\n",
    "        plt.xlim(-self.radius, self.radius)\n",
    "        plt.ylim(-self.radius, self.radius)\n",
    "        ax.tick_params(axis='both', which='both', labelbottom=False, bottom=False, left=False, labelleft=False)\n",
    "        ax.set_aspect(1)\n",
    "        ax.add_artist(circle)\n",
    "\n",
    "        for rect in self.rectangles_list:\n",
    "            rectangle = patches.Rectangle((rect.bottom_left_x, rect.bottom_left_y), rect.width, rect.height, linewidth=1, edgecolor='#4d004d', facecolor='#e6ccff', alpha=0.5)\n",
    "            ax.add_patch(rectangle)\n",
    "        plt.show() \n",
    "    "
   ]
  },
  {
   "cell_type": "code",
   "execution_count": 4,
   "metadata": {},
   "outputs": [],
   "source": [
    "def get_rectangles_types(radius):\n",
    "    rectangles = pd.read_csv('./../data/cutting/r'+str(radius)+'.csv', header=None)\n",
    "    rectangles.columns = ['width', 'height', 'value']\n",
    "    rectangles_rotated = rectangles.copy()\n",
    "    rectangles_rotated.columns = ['height', 'width', 'value']\n",
    "    all_rectangles_types = pd.concat([rectangles, rectangles_rotated])\n",
    "    all_rectangles_types.loc[(all_rectangles_types.value / (all_rectangles_types.width * all_rectangles_types.height)).sort_values(ascending=False).index]\n",
    "    all_rectangles_types.reset_index(drop=True, inplace=True)\n",
    "    return all_rectangles_types"
   ]
  },
  {
   "cell_type": "code",
   "execution_count": 5,
   "metadata": {},
   "outputs": [],
   "source": [
    "rectangles_types = get_rectangles_types(1200)"
   ]
  },
  {
   "attachments": {},
   "cell_type": "markdown",
   "metadata": {},
   "source": [
    "# Inicjalizacja"
   ]
  },
  {
   "cell_type": "code",
   "execution_count": 6,
   "metadata": {},
   "outputs": [],
   "source": [
    "def initialize_circle_with_rectangles(rectangle_type, radius):\n",
    "    rectangles_list = []\n",
    "    width = rectangle_type[0]\n",
    "    height = rectangle_type[1]\n",
    "\n",
    "    x_n = radius//width\n",
    "    y_n = radius//height\n",
    "\n",
    "    for y in range(1, y_n+1):\n",
    "        for x in range(1, x_n+1): \n",
    "            rectangle_top_right = Rectangle(x*width, y*height, rectangle_type)\n",
    "            rectangle_top_left = Rectangle(-(x-1)*width, y*height, rectangle_type)\n",
    "            rectangle_bottom_left = Rectangle(-(x-1)*width, -(y-1)*height, rectangle_type)\n",
    "            rectangle_bottom_right = Rectangle(x*width, -(y-1)*height, rectangle_type)\n",
    "\n",
    "            if rectangle_top_right.is_in_circle(radius):\n",
    "                rectangles_list.append(rectangle_top_right)\n",
    "                rectangles_list.append(rectangle_top_left)\n",
    "                rectangles_list.append(rectangle_bottom_left)\n",
    "                rectangles_list.append(rectangle_bottom_right)\n",
    "            else:\n",
    "                break\n",
    "    \n",
    "    return CircleWithRectangles(rectangles_list, radius)"
   ]
  },
  {
   "cell_type": "code",
   "execution_count": 7,
   "metadata": {},
   "outputs": [],
   "source": [
    "def initialize_population(rectangles_types, radius):\n",
    "    population = []\n",
    "    for i in range(len(rectangles_types)):\n",
    "        population.append(initialize_circle_with_rectangles(rectangles_types.loc[i, :].values.tolist(), radius)) \n",
    "    return population"
   ]
  },
  {
   "cell_type": "code",
   "execution_count": 8,
   "metadata": {},
   "outputs": [],
   "source": [
    "population = initialize_population(rectangles_types, 1200)"
   ]
  },
  {
   "cell_type": "code",
   "execution_count": 9,
   "metadata": {},
   "outputs": [],
   "source": [
    "for circle in population:\n",
    "    circle.calculate_score()"
   ]
  },
  {
   "cell_type": "code",
   "execution_count": 10,
   "metadata": {},
   "outputs": [
    {
     "data": {
      "image/png": "[encoded data removed]",
      "text/plain": [
       "<Figure size 640x480 with 1 Axes>"
      ]
     },
     "metadata": {},
     "output_type": "display_data"
    },
    {
     "data": {
      "image/png": "[encoded data removed]",
      "text/plain": [
       "<Figure size 640x480 with 1 Axes>"
      ]
     },
     "metadata": {},
     "output_type": "display_data"
    },
    {
     "data": {
      "image/png": "[encoded data removed]",
      "text/plain": [
       "<Figure size 640x480 with 1 Axes>"
      ]
     },
     "metadata": {},
     "output_type": "display_data"
    }
   ],
   "source": [
    "population[0].plot_circle()\n",
    "population[1].plot_circle()\n",
    "population[3].plot_circle()"
   ]
  },
  {
   "attachments": {},
   "cell_type": "markdown",
   "metadata": {},
   "source": [
    "# Warunek stopu"
   ]
  },
  {
   "cell_type": "code",
   "execution_count": 11,
   "metadata": {},
   "outputs": [],
   "source": [
    "best_circle = max(population, key=attrgetter('score'))"
   ]
  },
  {
   "cell_type": "code",
   "execution_count": 12,
   "metadata": {},
   "outputs": [],
   "source": [
    "epochs_without_improvement = 0\n",
    "best_circle_new = max(population, key=attrgetter('score'))\n",
    "if best_circle_new.score > best_circle.score:\n",
    "    best_circle = best_circle_new\n",
    "else:\n",
    "    epochs_without_improvement += 1\n",
    "    if epochs_without_improvement > 5:\n",
    "        print('The algorithm did not improve after 5 epochs, so it was stopped at epoch {}. The best circle was saved.'.format(epoch))\n",
    "        reak"
   ]
  },
  {
   "attachments": {},
   "cell_type": "markdown",
   "metadata": {},
   "source": [
    "# Krzyżowanie z mutacją"
   ]
  },
  {
   "cell_type": "code",
   "execution_count": 313,
   "metadata": {},
   "outputs": [],
   "source": [
    "def crossover(crossover_ratio):\n",
    "\n",
    "    offsprings = []\n",
    "    for i in range(crossover_ratio*len(population)):\n",
    "        circle_ix = random.sample(range(0, len(population)), 2)\n",
    "        circle_1 = population[circle_ix[0]].rectangles_list\n",
    "        circle_2 = population[circle_ix[1]].rectangles_list\n",
    "        offsprings.append(single_crossover(circle_1, circle2))\n",
    "        \n",
    "    return offsprings"
   ]
  },
  {
   "cell_type": "code",
   "execution_count": 312,
   "metadata": {},
   "outputs": [],
   "source": [
    "radius = 1200\n",
    "def single_crossover(circle_1, circle_2):\n",
    "    \n",
    "    crossover_point = random.randrange(-radius+100, radius-100, 10) # 100 to make a difference\n",
    "    is_vertical = bool(random.getrandbits(1))\n",
    "    if is_vertical:\n",
    "        offsprings_rectangles = [rectangle for rectangle in circle_1 if rectangle.top_right_x < crossover_point]\n",
    "        offsprings_rectangles.extend([rectangle for rectangle in circle_2 if rectangle.bottom_left_x >= crossover_point])\n",
    "        offsprings_rectangles.extend(fill_space_after_crossover(circle_1, circle_2, is_vertical, crossover_point))\n",
    "    else:\n",
    "        offsprings_rectangles = [rectangle for rectangle in circle_1 if rectangle.top_right_y < crossover_point]\n",
    "        offsprings_rectangles.extend([rectangle for rectangle in circle_2 if rectangle.bottom_left_y >= crossover_point])\n",
    "        offsprings_rectangles.extend(fill_space_after_crossover(circle_1, circle_2, is_vertical, crossover_point))\n",
    "    \n",
    "    return CircleWithRectangles(offsprings_rectangles, radius)"
   ]
  },
  {
   "cell_type": "code",
   "execution_count": 307,
   "metadata": {},
   "outputs": [],
   "source": [
    "def fill_space_after_crossover(circle_1, circle_2, is_vertical, crossover_point):\n",
    "\n",
    "    rectangles_to_fill = []\n",
    "    if is_vertical:\n",
    "        max_right_x = max(rectangle.top_right_x for rectangle in circle_1 if rectangle.top_right_x < crossover_point)\n",
    "        min_left_x = min(rectangle.bottom_left_x for rectangle in circle_2 if rectangle.bottom_left_x >= crossover_point)\n",
    "        min_width_in_set = rectangles_types.loc[rectangles_types['width'].idxmin(), :].values.tolist()[0]\n",
    "\n",
    "        if min_width_in_set <= min_left_x - max_right_x:\n",
    "            max_width_that_fits = max(rectangles_types.loc[rectangles_types['width'] <= min_left_x - max_right_x,  'width'])\n",
    "            if min_left_x - max_right_x >= max_width_that_fits:\n",
    "                min_rect_type = rectangles_types.loc[rectangles_types['width'] == max_width_that_fits].head(1).iloc[0]\n",
    "                height = min_rect_type[1]\n",
    "                y_n = radius//height\n",
    "                for y in range(-y_n, y_n+1):\n",
    "                    rectangle_to_fill = Rectangle(min_left_x, y*height, min_rect_type)\n",
    "                    if rectangle_to_fill.is_in_circle(radius):\n",
    "                        rectangles_to_fill.append(rectangle_to_fill)\n",
    "    else:\n",
    "        max_top_y = max(rectangle.top_right_y for rectangle in circle_1 if rectangle.top_right_y < crossover_point)\n",
    "        min_bottom_y = min(rectangle.bottom_left_y for rectangle in circle_2 if rectangle.bottom_left_y >= crossover_point)\n",
    "        min_height_in_set = rectangles_types.loc[rectangles_types['height'].idxmin(), :].values.tolist()[1]\n",
    "\n",
    "        if min_height_in_set <= min_bottom_y - max_top_y:\n",
    "            max_height_that_fits = max(rectangles_types.loc[rectangles_types['height'] <= min_bottom_y - max_top_y,  'height'])\n",
    "            if min_bottom_y - max_top_y >= max_height_that_fits:\n",
    "                min_rect_type = rectangles_types.loc[rectangles_types['height'] == max_height_that_fits].head(1).iloc[0].values.tolist()\n",
    "                width = min_rect_type[0]\n",
    "                x_n = radius//width\n",
    "                for x in range(-x_n, x_n+1):\n",
    "                    rectangle_to_fill = Rectangle(x*width, min_bottom_y, min_rect_type)\n",
    "                    if rectangle_to_fill.is_in_circle(radius):\n",
    "                        rectangles_to_fill.append(rectangle_to_fill)\n",
    "                        \n",
    "    return rectangles_to_fill"
   ]
  },
  {
   "attachments": {},
   "cell_type": "markdown",
   "metadata": {},
   "source": [
    "# Mutacja"
   ]
  },
  {
   "cell_type": "code",
   "execution_count": null,
   "metadata": {},
   "outputs": [],
   "source": [
    "def mutate(mutation_ratio):\n",
    "\n",
    "    mutated_circles = []\n",
    "    for i in range(mutation_ratio*len(population)):\n",
    "        circle_ix = random.randint(0, len(population))\n",
    "        circle_to_mutate = population[circle_ix].rectangles_list\n",
    "        mutated_circles.append(single_mutation(circle_to_mutate))\n",
    "    \n",
    "    return mutated_circles"
   ]
  },
  {
   "cell_type": "code",
   "execution_count": null,
   "metadata": {},
   "outputs": [],
   "source": [
    "def single_mutation(circle_to_mutate):\n",
    "    \n",
    "    circle_rectangles = circle_to_mutate.rectangles_list\n",
    "    mutation_point = random.randrange(-radius+100, radius-100, 10) # 100 to make a difference\n",
    "    mutation_direction = random.choice(['top', 'bottom', 'right', 'left'])\n",
    "    shift = random.randrange(10, 41, 10)\n",
    "    if mutation_direction == 'top':\n",
    "        mutated_part = [rectangle for rectangle in circle_rectangles if rectangle.bottom_left_y > mutation_point]\n",
    "        postmutation_rectangles = [rectangle for rectangle in circle_rectangles if rectangle.top_right_y <= crossover_point] # part without changes\n",
    "        for rectangle in mutated_part:\n",
    "            rectangle.top_right_y += shift\n",
    "            rectangle.bottom_left_y += shift\n",
    "            if rectangle.is_in_circle(radius):\n",
    "                postmutation_rectangles.append(rectangle)\n",
    "    elif mutation_direction == 'bottom':\n",
    "        mutated_part = [rectangle for rectangle in circle_rectangles if rectangle.top_right_y < mutation_point]\n",
    "        postmutation_rectangles = [rectangle for rectangle in circle_rectangles if rectangle.bottom_left_y >= crossover_point] # part without changes\n",
    "        for rectangle in mutated_part:\n",
    "            rectangle.top_right_y -= shift\n",
    "            rectangle.bottom_left_y -= shift\n",
    "            if rectangle.is_in_circle(radius):\n",
    "                postmutation_rectangles.append(rectangle)\n",
    "    elif mutation_direction == 'right':\n",
    "        mutated_part = [rectangle for rectangle in circle_rectangles if rectangle.bottom_left_x > mutation_point]\n",
    "        postmutation_rectangles = [rectangle for rectangle in circle_rectangles if rectangle.top_right_x <= crossover_point] # part without changes\n",
    "        for rectangle in mutated_part:\n",
    "            rectangle.top_right_y += shift\n",
    "            rectangle.bottom_left_y += shift\n",
    "            if rectangle.is_in_circle(radius):\n",
    "                postmutation_rectangles.append(rectangle)\n",
    "    else:\n",
    "        mutated_part = [rectangle for rectangle in circle_rectangles if rectangle.top_right_x < mutation_point]\n",
    "        postmutation_rectangles = [rectangle for rectangle in circle_rectangles if rectangle.bottom_left_x >= crossover_point] # part without changes\n",
    "        for rectangle in mutated_part:\n",
    "            rectangle.top_right_y -= shift\n",
    "            rectangle.bottom_left_y -= shift\n",
    "            if rectangle.is_in_circle(radius):\n",
    "                postmutation_rectangles.append(rectangle)\n",
    "\n",
    "    return CircleWithRectangles(postmutation_rectangles, radius)"
   ]
  },
  {
   "cell_type": "code",
   "execution_count": null,
   "metadata": {},
   "outputs": [],
   "source": []
  },
  {
   "cell_type": "code",
   "execution_count": null,
   "metadata": {},
   "outputs": [],
   "source": []
  },
  {
   "cell_type": "code",
   "execution_count": null,
   "metadata": {},
   "outputs": [],
   "source": []
  },
  {
   "cell_type": "code",
   "execution_count": null,
   "metadata": {},
   "outputs": [],
   "source": []
  },
  {
   "cell_type": "code",
   "execution_count": null,
   "metadata": {},
   "outputs": [],
   "source": []
  },
  {
   "cell_type": "code",
   "execution_count": null,
   "metadata": {},
   "outputs": [],
   "source": []
  }
 ],
 "metadata": {
  "kernelspec": {
   "display_name": "DataAnalysis",
   "language": "python",
   "name": "python3"
  },
  "language_info": {
   "codemirror_mode": {
    "name": "ipython",
    "version": 3
   },
   "file_extension": ".py",
   "mimetype": "text/x-python",
   "name": "python",
   "nbconvert_exporter": "python",
   "pygments_lexer": "ipython3",
   "version": "3.10.11"
  },
  "orig_nbformat": 4
 },
 "nbformat": 4,
 "nbformat_minor": 2
}
